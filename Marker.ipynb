{
  "cells": [
    {
      "attachments": {},
      "cell_type": "markdown",
      "metadata": {
        "colab_type": "text",
        "id": "view-in-github"
      },
      "source": [
        "<a href=\"https://colab.research.google.com/github/Josh-Tang112/Map_Marker_w_Photos/blob/main/Marker.ipynb\" target=\"_parent\"><img src=\"https://colab.research.google.com/assets/colab-badge.svg\" alt=\"Open In Colab\"/></a>"
      ]
    },
    {
      "cell_type": "code",
      "execution_count": null,
      "metadata": {
        "colab": {
          "base_uri": "https://localhost:8080/"
        },
        "id": "kFPlNDcNJeEv",
        "outputId": "280e392d-9fbb-4a79-9d66-fc32b18323dc"
      },
      "outputs": [
        {
          "name": "stdout",
          "output_type": "stream",
          "text": [
            "Looking in indexes: https://pypi.org/simple, https://us-python.pkg.dev/colab-wheels/public/simple/\n",
            "Requirement already satisfied: Pillow in /usr/local/lib/python3.10/dist-packages (8.4.0)\n"
          ]
        }
      ],
      "source": [
        "!pip install Pillow"
      ]
    },
    {
      "cell_type": "code",
      "execution_count": 167,
      "metadata": {
        "id": "UesC9E3TUM86"
      },
      "outputs": [],
      "source": [
        "!mv ../*.JPG ."
      ]
    },
    {
      "cell_type": "code",
      "execution_count": 166,
      "metadata": {
        "id": "II2q1mRr_sqz"
      },
      "outputs": [],
      "source": [
        "! rm *.JPG"
      ]
    },
    {
      "cell_type": "code",
      "execution_count": 17,
      "metadata": {
        "id": "c5Bn0uI9JrRK"
      },
      "outputs": [],
      "source": [
        "from PIL import Image\n",
        "from PIL.ExifTags import TAGS, GPSTAGS"
      ]
    },
    {
      "cell_type": "code",
      "execution_count": 45,
      "metadata": {
        "id": "3py5UqSrdrPY"
      },
      "outputs": [],
      "source": [
        "import os\n",
        "import statistics"
      ]
    },
    {
      "cell_type": "code",
      "execution_count": 168,
      "metadata": {
        "colab": {
          "base_uri": "https://localhost:8080/"
        },
        "id": "1k0Vc_Ujd6il",
        "outputId": "cd311a32-0968-4ab7-a9e7-98211f352846"
      },
      "outputs": [
        {
          "data": {
            "text/plain": [
              "['Test.JPG', 'Rename.JPG']"
            ]
          },
          "execution_count": 168,
          "metadata": {},
          "output_type": "execute_result"
        }
      ],
      "source": [
        "flst = os.listdir('./jpg')\n",
        "flst = [f for f in flst if f.lower().endswith('.jpg')]\n",
        "flst"
      ]
    },
    {
      "cell_type": "code",
      "execution_count": 169,
      "metadata": {
        "colab": {
          "base_uri": "https://localhost:8080/"
        },
        "id": "vsR1vpz41wMp",
        "outputId": "8d9ffd51-238f-4bb2-d5d9-7b697b107299"
      },
      "outputs": [
        {
          "name": "stdout",
          "output_type": "stream",
          "text": [
            "total 3828\n",
            "-rw-r--r-- 1 root root 2246370 Jun  3 16:02 Rename.JPG\n",
            "-rw-r--r-- 1 root root 1670371 Jun  3 16:02 Test.JPG\n"
          ]
        }
      ],
      "source": [
        "!ls -l"
      ]
    },
    {
      "cell_type": "code",
      "execution_count": 162,
      "metadata": {
        "colab": {
          "base_uri": "https://localhost:8080/"
        },
        "id": "M2HzNwi3idf5",
        "outputId": "d0ece630-5dfe-4a67-9b21-20c503c4894d"
      },
      "outputs": [
        {
          "data": {
            "text/plain": [
              "{1: 'N',\n",
              " 2: (34.0, 51.0, 49.6),\n",
              " 3: 'W',\n",
              " 4: (82.0, 22.0, 52.11),\n",
              " 5: b'\\x00',\n",
              " 6: 283.6512195121951,\n",
              " 7: (14.0, 9.0, 0.0),\n",
              " 12: 'K',\n",
              " 13: 0.0,\n",
              " 16: 'T',\n",
              " 17: 25.735258724428398,\n",
              " 23: 'T',\n",
              " 24: 25.735258724428398,\n",
              " 29: '2017:08:20',\n",
              " 31: 5.0}"
            ]
          },
          "execution_count": 162,
          "metadata": {},
          "output_type": "execute_result"
        }
      ],
      "source": [
        "dmt = { TAGS[k]: v for k, v in Image.open(flst[0])._getexif().items() if k in TAGS }[\"GPSInfo\"]\n",
        "dmt"
      ]
    },
    {
      "cell_type": "code",
      "execution_count": 163,
      "metadata": {
        "colab": {
          "base_uri": "https://localhost:8080/"
        },
        "id": "A4Q0omINeite",
        "outputId": "461515b5-5e8c-4fe3-e778-f4cdc883cacd"
      },
      "outputs": [
        {
          "data": {
            "text/plain": [
              "{'GPSLatitudeRef': 'N',\n",
              " 'GPSLatitude': (34.0, 51.0, 49.6),\n",
              " 'GPSLongitudeRef': 'W',\n",
              " 'GPSLongitude': (82.0, 22.0, 52.11),\n",
              " 'GPSAltitudeRef': b'\\x00',\n",
              " 'GPSAltitude': 283.6512195121951,\n",
              " 'GPSTimeStamp': (14.0, 9.0, 0.0),\n",
              " 'GPSSpeedRef': 'K',\n",
              " 'GPSSpeed': 0.0,\n",
              " 'GPSImgDirectionRef': 'T',\n",
              " 'GPSImgDirection': 25.735258724428398,\n",
              " 'GPSDestBearingRef': 'T',\n",
              " 'GPSDestBearing': 25.735258724428398,\n",
              " 'GPSDateStamp': '2017:08:20',\n",
              " 'GPSHPositioningError': 5.0}"
            ]
          },
          "execution_count": 163,
          "metadata": {},
          "output_type": "execute_result"
        }
      ],
      "source": [
        "gpsinfo = {}\n",
        "for key in dmt.keys():\n",
        "    decode = GPSTAGS.get(key,key)\n",
        "    gpsinfo[decode] = dmt[key]\n",
        "gpsinfo"
      ]
    },
    {
      "cell_type": "code",
      "execution_count": 170,
      "metadata": {
        "id": "0wXGsB8ViAIO"
      },
      "outputs": [],
      "source": [
        "def get_GPS(iname):\n",
        "    image = Image.open(iname)\n",
        "    exif = { TAGS[k]: v for k, v in image._getexif().items() if k in TAGS } # get metadata\n",
        "\n",
        "    # flip image if needed and update orientation, check http://sylvana.net/jpegcrop/exif_orientation.html for details\n",
        "    need_flip = [2,4,5,7]\n",
        "    correspond_orientation = [1,3,8,6]\n",
        "    mapping = res = dict(zip(need_flip, correspond_orientation))\n",
        "    if exif['Orientation'] in need_flip:\n",
        "        image = image.transpose(Image.FLIP_LEFT_RIGHT)\n",
        "        exif['Orientation'] = mapping(exif['Orientation'])\n",
        "\n",
        "    # rotate image if needed\n",
        "    if exif['Orientation'] == 3:\n",
        "        image = image.rotate(180, expand=True)\n",
        "    elif exif['Orientation'] == 6:\n",
        "        image = image.rotate(270, expand=True)\n",
        "    elif exif['Orientation'] == 8:\n",
        "        image = image.rotate(90, expand=True)\n",
        "        \n",
        "    image = image.resize((350, 350), Image.ANTIALIAS)\n",
        "    image.save(iname, 'jpeg', quality=100)\n",
        "    return exif['GPSInfo']"
      ]
    },
    {
      "cell_type": "code",
      "execution_count": 171,
      "metadata": {
        "id": "4NHHb0Ruftqx"
      },
      "outputs": [],
      "source": [
        "def convert_to_degress(value):\n",
        "    return value[0] + (value[1] / 60.0) + (value[2] / 3600.0)\n",
        "\n",
        "def get_coord(gps):\n",
        "    latitude = gps[2]\n",
        "    latitude_ref = gps[1]\n",
        "    longitude = gps[4]\n",
        "    longitude_ref = gps[3]\n",
        "    if latitude:\n",
        "        lat_value = convert_to_degress(latitude)\n",
        "        if latitude_ref != 'N':\n",
        "            lat_value = -lat_value\n",
        "    else:\n",
        "        return {}\n",
        "    if longitude:\n",
        "        lon_value = convert_to_degress(longitude)\n",
        "        if longitude_ref != 'E':\n",
        "            lon_value = -lon_value\n",
        "    else:\n",
        "        return {}\n",
        "    return (lat_value, lon_value)"
      ]
    },
    {
      "cell_type": "code",
      "execution_count": 172,
      "metadata": {
        "colab": {
          "base_uri": "https://localhost:8080/"
        },
        "id": "BZzgg3v3g3EW",
        "outputId": "502df139-d3a0-4aa1-9317-9e40e1f64db3"
      },
      "outputs": [
        {
          "data": {
            "text/plain": [
              "(34.86377777777778, -82.38114166666666)"
            ]
          },
          "execution_count": 172,
          "metadata": {},
          "output_type": "execute_result"
        }
      ],
      "source": [
        "get_coord(dmt)"
      ]
    },
    {
      "cell_type": "code",
      "execution_count": 173,
      "metadata": {
        "colab": {
          "base_uri": "https://localhost:8080/"
        },
        "id": "-EqVs3KRjbSJ",
        "outputId": "d9933012-4c15-4ac1-c4d8-f43937757a31"
      },
      "outputs": [
        {
          "data": {
            "text/plain": [
              "[(34.86377777777778, -82.38114166666666),\n",
              " (39.92016666666667, -74.91237777777778)]"
            ]
          },
          "execution_count": 173,
          "metadata": {},
          "output_type": "execute_result"
        }
      ],
      "source": [
        "lst_coord = [get_coord(get_GPS(f)) for f in flst]\n",
        "lst_coord"
      ]
    },
    {
      "cell_type": "code",
      "execution_count": 174,
      "metadata": {
        "colab": {
          "base_uri": "https://localhost:8080/"
        },
        "id": "vm8PG6QYo4nR",
        "outputId": "ff19f71c-af54-421a-9f39-0dda9fd4cbda"
      },
      "outputs": [
        {
          "data": {
            "text/plain": [
              "(37.39197222222222, -78.64675972222221)"
            ]
          },
          "execution_count": 174,
          "metadata": {},
          "output_type": "execute_result"
        }
      ],
      "source": [
        "center = (statistics.mean([i[0] for i in lst_coord]), statistics.mean([i[1] for i in lst_coord]))\n",
        "center"
      ]
    },
    {
      "cell_type": "code",
      "execution_count": 175,
      "metadata": {
        "id": "KyO12-_0gtE5"
      },
      "outputs": [],
      "source": [
        "import folium\n",
        "import base64\n",
        "from folium import IFrame"
      ]
    },
    {
      "cell_type": "code",
      "execution_count": 182,
      "metadata": {
        "id": "atE1dre7qThV"
      },
      "outputs": [],
      "source": [
        "m = folium.Map(location = center, zoom_start = 6, tiles = \"OpenStreetMap\")\n",
        "# m"
      ]
    },
    {
      "cell_type": "code",
      "execution_count": 183,
      "metadata": {
        "id": "oRuECDeikuJC"
      },
      "outputs": [],
      "source": [
        "def add_to_map(m,iname,coord):\n",
        "    encoded = base64.b64encode(open(iname, 'rb').read())\n",
        "    html = '<img src=\"data:image/png;base64,{}\">'.format\n",
        "    iframe = IFrame(html(encoded.decode('UTF-8')), width=370, height=370)\n",
        "\n",
        "    popup = folium.Popup(iframe, max_width=550)\n",
        "    icon=folium.Icon(color = 'gray',icon='globe')\n",
        "    folium.Marker(location=coord, popup = popup, icon=icon).add_to(m)"
      ]
    },
    {
      "cell_type": "code",
      "execution_count": null,
      "metadata": {
        "id": "Gt7UvR78sv7n"
      },
      "outputs": [],
      "source": [
        "for i in range(len(flst)):\n",
        "    add_to_map(m,flst[i],lst_coord[i])"
      ]
    }
  ],
  "metadata": {
    "colab": {
      "authorship_tag": "ABX9TyND6CMGDtIgXWIT1EWCcz9q",
      "include_colab_link": true,
      "provenance": []
    },
    "kernelspec": {
      "display_name": "Python 3",
      "name": "python3"
    },
    "language_info": {
      "name": "python"
    }
  },
  "nbformat": 4,
  "nbformat_minor": 0
}
